{
 "cells": [
  {
   "cell_type": "code",
   "execution_count": 1,
   "id": "835b262d",
   "metadata": {},
   "outputs": [],
   "source": [
    "import pandas as pd\n",
    "import numpy as np\n"
   ]
  },
  {
   "cell_type": "code",
   "execution_count": 2,
   "id": "79c431a3",
   "metadata": {},
   "outputs": [
    {
     "name": "stdout",
     "output_type": "stream",
     "text": [
      "<class 'pandas.core.frame.DataFrame'>\n",
      "RangeIndex: 236526 entries, 0 to 236525\n",
      "Data columns (total 19 columns):\n",
      " #   Column          Non-Null Count   Dtype  \n",
      "---  ------          --------------   -----  \n",
      " 0   USMER           236526 non-null  int64  \n",
      " 1   SEX             236526 non-null  int64  \n",
      " 2   PATIENT_TYPE    236526 non-null  int64  \n",
      " 3   INTUBED         236526 non-null  float64\n",
      " 4   PNEUMONIA       229339 non-null  float64\n",
      " 5   AGE             236526 non-null  int64  \n",
      " 6   DIABETES        233686 non-null  float64\n",
      " 7   COPD            233997 non-null  float64\n",
      " 8   ASTHMA          234020 non-null  float64\n",
      " 9   INMSUPR         233600 non-null  float64\n",
      " 10  HIPERTENSION    233906 non-null  float64\n",
      " 11  OTHER_DISEASE   232164 non-null  float64\n",
      " 12  CARDIOVASCULAR  233923 non-null  float64\n",
      " 13  OBESITY         233972 non-null  float64\n",
      " 14  RENAL_CHRONIC   233995 non-null  float64\n",
      " 15  TOBACCO         233788 non-null  float64\n",
      " 16  ICU             236526 non-null  float64\n",
      " 17  DIED            236526 non-null  int64  \n",
      " 18  COVID_status    236526 non-null  int64  \n",
      "dtypes: float64(13), int64(6)\n",
      "memory usage: 34.3 MB\n"
     ]
    }
   ],
   "source": [
    "#Load the data\n",
    "df=pd.read_csv('imputed_covid_data_m2_modified.csv')\n",
    "df.info()"
   ]
  },
  {
   "cell_type": "code",
   "execution_count": 3,
   "id": "e2c145e9",
   "metadata": {},
   "outputs": [
    {
     "name": "stdout",
     "output_type": "stream",
     "text": [
      "<class 'pandas.core.frame.DataFrame'>\n",
      "RangeIndex: 222655 entries, 0 to 222654\n",
      "Data columns (total 19 columns):\n",
      " #   Column          Non-Null Count   Dtype  \n",
      "---  ------          --------------   -----  \n",
      " 0   USMER           222655 non-null  int64  \n",
      " 1   SEX             222655 non-null  int64  \n",
      " 2   PATIENT_TYPE    222655 non-null  int64  \n",
      " 3   INTUBED         222655 non-null  float64\n",
      " 4   PNEUMONIA       222655 non-null  float64\n",
      " 5   AGE             222655 non-null  int64  \n",
      " 6   DIABETES        222655 non-null  float64\n",
      " 7   COPD            222655 non-null  float64\n",
      " 8   ASTHMA          222655 non-null  float64\n",
      " 9   INMSUPR         222655 non-null  float64\n",
      " 10  HIPERTENSION    222655 non-null  float64\n",
      " 11  OTHER_DISEASE   222655 non-null  float64\n",
      " 12  CARDIOVASCULAR  222655 non-null  float64\n",
      " 13  OBESITY         222655 non-null  float64\n",
      " 14  RENAL_CHRONIC   222655 non-null  float64\n",
      " 15  TOBACCO         222655 non-null  float64\n",
      " 16  ICU             222655 non-null  float64\n",
      " 17  DIED            222655 non-null  int64  \n",
      " 18  COVID_status    222655 non-null  int64  \n",
      "dtypes: float64(13), int64(6)\n",
      "memory usage: 32.3 MB\n"
     ]
    }
   ],
   "source": [
    "df.dropna(inplace=True)\n",
    "df.reset_index(drop=True, inplace=True)\n",
    "df.info()"
   ]
  },
  {
   "cell_type": "code",
   "execution_count": 5,
   "id": "aff7add3",
   "metadata": {},
   "outputs": [],
   "source": [
    "#data spliting\n",
    "from sklearn.model_selection import train_test_split\n",
    "x=df.drop(columns=['DIED'])\n",
    "y=df['DIED']\n",
    "X_train, X_test, y_train, y_test = train_test_split(x, y, test_size=0.2, random_state=42)"
   ]
  },
  {
   "cell_type": "code",
   "execution_count": 6,
   "id": "6bd0b88b",
   "metadata": {},
   "outputs": [],
   "source": [
    "for col in x.columns:\n",
    "    if col != \"AGE\":\n",
    "        df[col] = df[col].astype(str)"
   ]
  },
  {
   "cell_type": "code",
   "execution_count": 7,
   "id": "f4bbd937",
   "metadata": {},
   "outputs": [],
   "source": [
    "#encoding\n",
    "from sklearn.preprocessing import OneHotEncoder\n",
    "en=df.drop(columns=['AGE','DIED'])\n",
    "categorical_cols= en.columns.tolist()\n",
    "\n",
    "# Create the OneHotEncoder instance and fit it to the training data\n",
    "encoder = OneHotEncoder(handle_unknown='ignore', sparse_output=False)\n",
    "encoder.fit(X_train[categorical_cols])  \n",
    "\n",
    "X_train_encoded = encoder.transform(X_train[categorical_cols])\n",
    "X_test_encoded = encoder.transform(X_test[categorical_cols])\n"
   ]
  },
  {
   "cell_type": "code",
   "execution_count": 8,
   "id": "987e97a6",
   "metadata": {},
   "outputs": [],
   "source": [
    "X_train_encoded = pd.DataFrame(X_train_encoded, columns=encoder.get_feature_names_out(categorical_cols))\n",
    "X_test_encoded = pd.DataFrame(X_test_encoded, columns=encoder.get_feature_names_out(categorical_cols))"
   ]
  },
  {
   "cell_type": "code",
   "execution_count": 9,
   "id": "28ff8f2c",
   "metadata": {},
   "outputs": [
    {
     "name": "stdout",
     "output_type": "stream",
     "text": [
      "<class 'pandas.core.frame.DataFrame'>\n",
      "RangeIndex: 44531 entries, 0 to 44530\n",
      "Data columns (total 34 columns):\n",
      " #   Column              Non-Null Count  Dtype  \n",
      "---  ------              --------------  -----  \n",
      " 0   USMER_0             44531 non-null  float64\n",
      " 1   USMER_1             44531 non-null  float64\n",
      " 2   SEX_0               44531 non-null  float64\n",
      " 3   SEX_1               44531 non-null  float64\n",
      " 4   PATIENT_TYPE_0      44531 non-null  float64\n",
      " 5   PATIENT_TYPE_1      44531 non-null  float64\n",
      " 6   INTUBED_0.0         44531 non-null  float64\n",
      " 7   INTUBED_1.0         44531 non-null  float64\n",
      " 8   PNEUMONIA_0.0       44531 non-null  float64\n",
      " 9   PNEUMONIA_1.0       44531 non-null  float64\n",
      " 10  DIABETES_0.0        44531 non-null  float64\n",
      " 11  DIABETES_1.0        44531 non-null  float64\n",
      " 12  COPD_0.0            44531 non-null  float64\n",
      " 13  COPD_1.0            44531 non-null  float64\n",
      " 14  ASTHMA_0.0          44531 non-null  float64\n",
      " 15  ASTHMA_1.0          44531 non-null  float64\n",
      " 16  INMSUPR_0.0         44531 non-null  float64\n",
      " 17  INMSUPR_1.0         44531 non-null  float64\n",
      " 18  HIPERTENSION_0.0    44531 non-null  float64\n",
      " 19  HIPERTENSION_1.0    44531 non-null  float64\n",
      " 20  OTHER_DISEASE_0.0   44531 non-null  float64\n",
      " 21  OTHER_DISEASE_1.0   44531 non-null  float64\n",
      " 22  CARDIOVASCULAR_0.0  44531 non-null  float64\n",
      " 23  CARDIOVASCULAR_1.0  44531 non-null  float64\n",
      " 24  OBESITY_0.0         44531 non-null  float64\n",
      " 25  OBESITY_1.0         44531 non-null  float64\n",
      " 26  RENAL_CHRONIC_0.0   44531 non-null  float64\n",
      " 27  RENAL_CHRONIC_1.0   44531 non-null  float64\n",
      " 28  TOBACCO_0.0         44531 non-null  float64\n",
      " 29  TOBACCO_1.0         44531 non-null  float64\n",
      " 30  ICU_0.0             44531 non-null  float64\n",
      " 31  ICU_1.0             44531 non-null  float64\n",
      " 32  COVID_status_0      44531 non-null  float64\n",
      " 33  COVID_status_1      44531 non-null  float64\n",
      "dtypes: float64(34)\n",
      "memory usage: 11.6 MB\n"
     ]
    }
   ],
   "source": [
    "X_test_encoded.info()"
   ]
  },
  {
   "cell_type": "code",
   "execution_count": 10,
   "id": "fc6e8a1e",
   "metadata": {},
   "outputs": [
    {
     "name": "stdout",
     "output_type": "stream",
     "text": [
      "<class 'pandas.core.frame.DataFrame'>\n",
      "RangeIndex: 178124 entries, 0 to 178123\n",
      "Data columns (total 35 columns):\n",
      " #   Column              Non-Null Count   Dtype  \n",
      "---  ------              --------------   -----  \n",
      " 0   USMER_0             178124 non-null  float64\n",
      " 1   USMER_1             178124 non-null  float64\n",
      " 2   SEX_0               178124 non-null  float64\n",
      " 3   SEX_1               178124 non-null  float64\n",
      " 4   PATIENT_TYPE_0      178124 non-null  float64\n",
      " 5   PATIENT_TYPE_1      178124 non-null  float64\n",
      " 6   INTUBED_0.0         178124 non-null  float64\n",
      " 7   INTUBED_1.0         178124 non-null  float64\n",
      " 8   PNEUMONIA_0.0       178124 non-null  float64\n",
      " 9   PNEUMONIA_1.0       178124 non-null  float64\n",
      " 10  DIABETES_0.0        178124 non-null  float64\n",
      " 11  DIABETES_1.0        178124 non-null  float64\n",
      " 12  COPD_0.0            178124 non-null  float64\n",
      " 13  COPD_1.0            178124 non-null  float64\n",
      " 14  ASTHMA_0.0          178124 non-null  float64\n",
      " 15  ASTHMA_1.0          178124 non-null  float64\n",
      " 16  INMSUPR_0.0         178124 non-null  float64\n",
      " 17  INMSUPR_1.0         178124 non-null  float64\n",
      " 18  HIPERTENSION_0.0    178124 non-null  float64\n",
      " 19  HIPERTENSION_1.0    178124 non-null  float64\n",
      " 20  OTHER_DISEASE_0.0   178124 non-null  float64\n",
      " 21  OTHER_DISEASE_1.0   178124 non-null  float64\n",
      " 22  CARDIOVASCULAR_0.0  178124 non-null  float64\n",
      " 23  CARDIOVASCULAR_1.0  178124 non-null  float64\n",
      " 24  OBESITY_0.0         178124 non-null  float64\n",
      " 25  OBESITY_1.0         178124 non-null  float64\n",
      " 26  RENAL_CHRONIC_0.0   178124 non-null  float64\n",
      " 27  RENAL_CHRONIC_1.0   178124 non-null  float64\n",
      " 28  TOBACCO_0.0         178124 non-null  float64\n",
      " 29  TOBACCO_1.0         178124 non-null  float64\n",
      " 30  ICU_0.0             178124 non-null  float64\n",
      " 31  ICU_1.0             178124 non-null  float64\n",
      " 32  COVID_status_0      178124 non-null  float64\n",
      " 33  COVID_status_1      178124 non-null  float64\n",
      " 34  AGE                 178124 non-null  int64  \n",
      "dtypes: float64(34), int64(1)\n",
      "memory usage: 47.6 MB\n"
     ]
    }
   ],
   "source": [
    "#add age column to the encoded data\n",
    "X_train_encoded['AGE'] = X_train['AGE'].values\n",
    "X_test_encoded['AGE'] = X_test['AGE'].values\n",
    "X_train_encoded.info()"
   ]
  },
  {
   "cell_type": "code",
   "execution_count": 11,
   "id": "53af627f",
   "metadata": {},
   "outputs": [],
   "source": [
    "from imblearn.combine import SMOTETomek\n",
    "\n",
    "smt = SMOTETomek(random_state=42)\n",
    "X_balanced, y_balanced = smt.fit_resample(X_train_encoded, y_train)\n"
   ]
  },
  {
   "cell_type": "code",
   "execution_count": 12,
   "id": "ab804676",
   "metadata": {},
   "outputs": [
    {
     "name": "stdout",
     "output_type": "stream",
     "text": [
      "<class 'pandas.core.frame.DataFrame'>\n",
      "RangeIndex: 309348 entries, 0 to 309347\n",
      "Data columns (total 35 columns):\n",
      " #   Column              Non-Null Count   Dtype  \n",
      "---  ------              --------------   -----  \n",
      " 0   USMER_0             309348 non-null  float64\n",
      " 1   USMER_1             309348 non-null  float64\n",
      " 2   SEX_0               309348 non-null  float64\n",
      " 3   SEX_1               309348 non-null  float64\n",
      " 4   PATIENT_TYPE_0      309348 non-null  float64\n",
      " 5   PATIENT_TYPE_1      309348 non-null  float64\n",
      " 6   INTUBED_0.0         309348 non-null  float64\n",
      " 7   INTUBED_1.0         309348 non-null  float64\n",
      " 8   PNEUMONIA_0.0       309348 non-null  float64\n",
      " 9   PNEUMONIA_1.0       309348 non-null  float64\n",
      " 10  DIABETES_0.0        309348 non-null  float64\n",
      " 11  DIABETES_1.0        309348 non-null  float64\n",
      " 12  COPD_0.0            309348 non-null  float64\n",
      " 13  COPD_1.0            309348 non-null  float64\n",
      " 14  ASTHMA_0.0          309348 non-null  float64\n",
      " 15  ASTHMA_1.0          309348 non-null  float64\n",
      " 16  INMSUPR_0.0         309348 non-null  float64\n",
      " 17  INMSUPR_1.0         309348 non-null  float64\n",
      " 18  HIPERTENSION_0.0    309348 non-null  float64\n",
      " 19  HIPERTENSION_1.0    309348 non-null  float64\n",
      " 20  OTHER_DISEASE_0.0   309348 non-null  float64\n",
      " 21  OTHER_DISEASE_1.0   309348 non-null  float64\n",
      " 22  CARDIOVASCULAR_0.0  309348 non-null  float64\n",
      " 23  CARDIOVASCULAR_1.0  309348 non-null  float64\n",
      " 24  OBESITY_0.0         309348 non-null  float64\n",
      " 25  OBESITY_1.0         309348 non-null  float64\n",
      " 26  RENAL_CHRONIC_0.0   309348 non-null  float64\n",
      " 27  RENAL_CHRONIC_1.0   309348 non-null  float64\n",
      " 28  TOBACCO_0.0         309348 non-null  float64\n",
      " 29  TOBACCO_1.0         309348 non-null  float64\n",
      " 30  ICU_0.0             309348 non-null  float64\n",
      " 31  ICU_1.0             309348 non-null  float64\n",
      " 32  COVID_status_0      309348 non-null  float64\n",
      " 33  COVID_status_1      309348 non-null  float64\n",
      " 34  AGE                 309348 non-null  int64  \n",
      "dtypes: float64(34), int64(1)\n",
      "memory usage: 82.6 MB\n"
     ]
    }
   ],
   "source": [
    "X_balanced.info()"
   ]
  },
  {
   "cell_type": "code",
   "execution_count": 13,
   "id": "a4a308b6",
   "metadata": {},
   "outputs": [
    {
     "name": "stdout",
     "output_type": "stream",
     "text": [
      "[LightGBM] [Info] Number of positive: 154674, number of negative: 154674\n",
      "[LightGBM] [Info] Auto-choosing row-wise multi-threading, the overhead of testing was 0.110253 seconds.\n",
      "You can set `force_row_wise=true` to remove the overhead.\n",
      "And if memory is not enough, you can set `force_col_wise=true`.\n",
      "[LightGBM] [Info] Total Bins 8782\n",
      "[LightGBM] [Info] Number of data points in the train set: 309348, number of used features: 35\n",
      "[LightGBM] [Info] [binary:BoostFromScore]: pavg=0.500000 -> initscore=0.000000\n",
      "Train Accuracy: 0.8374064160750999\n"
     ]
    }
   ],
   "source": [
    "import lightgbm as lgb\n",
    "from sklearn.metrics import accuracy_score, f1_score, roc_auc_score, classification_report, confusion_matrix\n",
    "\n",
    "# initialize the model\n",
    "lgbm = lgb.LGBMClassifier(random_state=42)\n",
    "\n",
    "# fitting the model\n",
    "lgbm.fit(X_balanced, y_balanced, eval_set=[(X_balanced, y_balanced)], eval_metric='logloss')\n",
    "\n",
    "# Predict on validation set\n",
    "val_preds = lgbm.predict(X_balanced)\n",
    "\n",
    "# Evaluate\n",
    "val_accuracy = accuracy_score(y_balanced, val_preds)\n",
    "print(\"Train Accuracy:\", val_accuracy)"
   ]
  },
  {
   "cell_type": "code",
   "execution_count": 14,
   "id": "3b625a36",
   "metadata": {},
   "outputs": [
    {
     "name": "stdout",
     "output_type": "stream",
     "text": [
      "Test Accuracy: 0.7629291953919741\n"
     ]
    }
   ],
   "source": [
    "test_preds = lgbm.predict(X_test_encoded)\n",
    "test_accuracy = accuracy_score(y_test, test_preds)\n",
    "print(\"Test Accuracy:\", test_accuracy)"
   ]
  },
  {
   "cell_type": "code",
   "execution_count": 19,
   "id": "2063e3e3",
   "metadata": {},
   "outputs": [
    {
     "data": {
      "text/plain": [
       "DIED\n",
       "0    38727\n",
       "1     5804\n",
       "Name: count, dtype: int64"
      ]
     },
     "execution_count": 19,
     "metadata": {},
     "output_type": "execute_result"
    }
   ],
   "source": [
    "y_test.value_counts()"
   ]
  },
  {
   "cell_type": "code",
   "execution_count": 20,
   "id": "1184f357",
   "metadata": {},
   "outputs": [
    {
     "data": {
      "image/png": "[encoded data removed]",
      "text/plain": [
       "<Figure size 800x600 with 2 Axes>"
      ]
     },
     "metadata": {},
     "output_type": "display_data"
    },
    {
     "name": "stdout",
     "output_type": "stream",
     "text": [
      "              precision    recall  f1-score   support\n",
      "\n",
      "       Alive       0.92      0.79      0.85     38727\n",
      "        Dead       0.29      0.55      0.38      5804\n",
      "\n",
      "    accuracy                           0.76     44531\n",
      "   macro avg       0.60      0.67      0.62     44531\n",
      "weighted avg       0.84      0.76      0.79     44531\n",
      "\n"
     ]
    }
   ],
   "source": [
    "# confusion matrix\n",
    "cm = confusion_matrix(y_test, test_preds)\n",
    "import seaborn as sns\n",
    "import matplotlib.pyplot as plt\n",
    "\n",
    "plt.figure(figsize=(8, 6))\n",
    "sns.heatmap(cm, annot=True, fmt='d', cmap='Blues', xticklabels=['Alive', 'Dead'], yticklabels=['Alive', 'Dead'])\n",
    "plt.ylabel('True label')\n",
    "plt.xlabel('Predicted label')\n",
    "plt.title('Confusion Matrix')\n",
    "plt.show()\n",
    "# classification report\n",
    "print(classification_report(y_test, test_preds, target_names=['Alive', 'Dead']))\n"
   ]
  },
  {
   "cell_type": "code",
   "execution_count": null,
   "id": "443eee92",
   "metadata": {},
   "outputs": [
    {
     "name": "stdout",
     "output_type": "stream",
     "text": [
      "Validation Accuracy (Logistic Regression): 0.6782185443848106\n"
     ]
    }
   ],
   "source": [
    "#logistic regression\n",
    "from sklearn.linear_model import LogisticRegression\n",
    "from sklearn.preprocessing import StandardScaler\n",
    "\n",
    " \n",
    "# Initialize the model\n",
    "log_reg = LogisticRegression(random_state=42, max_iter=1000)\n",
    "\n",
    "# Fit the model\n",
    "log_reg.fit(X_balanced, y_balanced)\n",
    "\n",
    "# Predict on validation set\n",
    "val_preds_log_reg = log_reg.predict(X_train_encoded)\n",
    "# Evaluate  \n",
    "val_accuracy_log_reg = accuracy_score(y_train, val_preds_log_reg)\n",
    "print(\"Traning Accuracy (Logistic Regression):\", val_accuracy_log_reg)"
   ]
  },
  {
   "cell_type": "code",
   "execution_count": 17,
   "id": "9fc36c8c",
   "metadata": {},
   "outputs": [
    {
     "name": "stdout",
     "output_type": "stream",
     "text": [
      "Test Accuracy (Logistic Regression): 0.6784487211156273\n"
     ]
    }
   ],
   "source": [
    "#test set predictions\n",
    "test_preds_log_reg = log_reg.predict(X_test_encoded)\n",
    "test_accuracy_log_reg = accuracy_score(y_test, test_preds_log_reg)\n",
    "print(\"Test Accuracy (Logistic Regression):\", test_accuracy_log_reg)"
   ]
  },
  {
   "cell_type": "code",
   "execution_count": 21,
   "id": "0a80fd82",
   "metadata": {},
   "outputs": [
    {
     "data": {
      "image/png": "[encoded data removed]",
      "text/plain": [
       "<Figure size 800x600 with 2 Axes>"
      ]
     },
     "metadata": {},
     "output_type": "display_data"
    },
    {
     "name": "stdout",
     "output_type": "stream",
     "text": [
      "              precision    recall  f1-score   support\n",
      "\n",
      "       Alive       0.95      0.66      0.78     38727\n",
      "        Dead       0.26      0.78      0.39      5804\n",
      "\n",
      "    accuracy                           0.68     44531\n",
      "   macro avg       0.60      0.72      0.58     44531\n",
      "weighted avg       0.86      0.68      0.73     44531\n",
      "\n"
     ]
    }
   ],
   "source": [
    "cm = confusion_matrix(y_test, test_preds_log_reg)\n",
    "import seaborn as sns\n",
    "import matplotlib.pyplot as plt\n",
    "\n",
    "plt.figure(figsize=(8, 6))\n",
    "sns.heatmap(cm, annot=True, fmt='d', cmap='Blues', xticklabels=['Alive', 'Dead'], yticklabels=['Alive', 'Dead'])\n",
    "plt.ylabel('True label')\n",
    "plt.xlabel('Predicted label')\n",
    "plt.title('Confusion Matrix')\n",
    "plt.show()\n",
    "# classification report\n",
    "print(classification_report(y_test, test_preds_log_reg, target_names=['Alive', 'Dead']))"
   ]
  },
  {
   "cell_type": "code",
   "execution_count": 22,
   "id": "a9221b9a",
   "metadata": {},
   "outputs": [],
   "source": [
    "from xgboost import XGBClassifier\n",
    "xgb = XGBClassifier(n_estimators = 200, \n",
    "                    learning_rate=0.1)\n",
    "\n",
    "xgb.fit(X_balanced, y_balanced)\n",
    "\n",
    "pred = xgb.predict(X_train_encoded)"
   ]
  },
  {
   "cell_type": "code",
   "execution_count": 23,
   "id": "5328f462",
   "metadata": {},
   "outputs": [
    {
     "name": "stdout",
     "output_type": "stream",
     "text": [
      "Test Accuracy (XGBoost): 0.765713772428196\n",
      "Predictions: [0 0 1 ... 0 1 1]\n"
     ]
    }
   ],
   "source": [
    "from sklearn.metrics import accuracy_score\n",
    "\n",
    "# Predict\n",
    "test_preds_xgb = xgb.predict(X_test_encoded)\n",
    "\n",
    "# Accuracy\n",
    "test_accuracy_xgb = accuracy_score(y_test, test_preds_xgb)\n",
    "\n",
    "# Output\n",
    "print(\"Test Accuracy (XGBoost):\", test_accuracy_xgb)\n",
    "print(\"Predictions:\", test_preds_xgb)"
   ]
  },
  {
   "cell_type": "code",
   "execution_count": 24,
   "id": "e2933b94",
   "metadata": {},
   "outputs": [
    {
     "data": {
      "image/png": "[encoded data removed]",
      "text/plain": [
       "<Figure size 800x600 with 2 Axes>"
      ]
     },
     "metadata": {},
     "output_type": "display_data"
    },
    {
     "name": "stdout",
     "output_type": "stream",
     "text": [
      "              precision    recall  f1-score   support\n",
      "\n",
      "       Alive       0.92      0.80      0.86     38727\n",
      "        Dead       0.29      0.54      0.37      5804\n",
      "\n",
      "    accuracy                           0.77     44531\n",
      "   macro avg       0.60      0.67      0.62     44531\n",
      "weighted avg       0.84      0.77      0.79     44531\n",
      "\n"
     ]
    }
   ],
   "source": [
    "from sklearn.metrics import accuracy_score, f1_score, roc_auc_score, classification_report, confusion_matrix\n",
    "cm = confusion_matrix(y_test, test_preds_xgb)\n",
    "cm_percent = cm.astype('float') / cm.sum() * 100  \n",
    "import seaborn as sns\n",
    "import matplotlib.pyplot as plt\n",
    "\n",
    "plt.figure(figsize=(8, 6))\n",
    "sns.heatmap(cm, annot=True, fmt='.1f', cmap='Blues', xticklabels=['Alive', 'Dead'], yticklabels=['Alive', 'Dead'])\n",
    "plt.ylabel('True label')\n",
    "plt.xlabel('Predicted label')\n",
    "plt.title('Confusion Matrix')\n",
    "plt.show()\n",
    "# classification report\n",
    "print(classification_report(y_test, test_preds_xgb, target_names=['Alive', 'Dead']))"
   ]
  },
  {
   "cell_type": "code",
   "execution_count": 25,
   "id": "27d077ef",
   "metadata": {},
   "outputs": [],
   "source": [
    "from sklearn.ensemble import RandomForestClassifier\n",
    "\n",
    "# Initialize and train the model\n",
    "rf_model = RandomForestClassifier(n_estimators=100, random_state=42)\n",
    "rf_model.fit(X_balanced, y_balanced)\n",
    "\n",
    "# Make predictions\n",
    "y_pred = rf_model.predict(X_test_encoded)\n"
   ]
  },
  {
   "cell_type": "code",
   "execution_count": null,
   "id": "f34032ff",
   "metadata": {},
   "outputs": [
    {
     "data": {
      "image/png": "[encoded data removed]",
      "text/plain": [
       "<Figure size 800x600 with 2 Axes>"
      ]
     },
     "metadata": {},
     "output_type": "display_data"
    },
    {
     "name": "stdout",
     "output_type": "stream",
     "text": [
      "               precision    recall  f1-score   support\n",
      "\n",
      "Not Intubated       0.91      0.82      0.86     38727\n",
      "    Intubated       0.27      0.45      0.34      5804\n",
      "\n",
      "     accuracy                           0.77     44531\n",
      "    macro avg       0.59      0.63      0.60     44531\n",
      " weighted avg       0.82      0.77      0.79     44531\n",
      "\n"
     ]
    }
   ],
   "source": [
    "from sklearn.metrics import accuracy_score, f1_score, roc_auc_score, classification_report, confusion_matrix\n",
    "cm = confusion_matrix(y_test, y_pred)\n",
    "cm_percent = cm.astype('float') / cm.sum() * 100  \n",
    "import seaborn as sns\n",
    "import matplotlib.pyplot as plt\n",
    "\n",
    "plt.figure(figsize=(8, 6))\n",
    "sns.heatmap(cm, annot=True, fmt='.1f', cmap='Blues', xticklabels=['Alive', 'Dead'], yticklabels=['Alive', 'Dead'])\n",
    "plt.ylabel('True label')\n",
    "plt.xlabel('Predicted label')\n",
    "plt.title('Confusion Matrix')\n",
    "plt.show()\n",
    "# classification report\n",
    "print(classification_report(y_test, y_pred, target_names=['Alive', 'Dead']))"
   ]
  },
  {
   "cell_type": "code",
   "execution_count": 27,
   "id": "d8a0cbaf",
   "metadata": {},
   "outputs": [],
   "source": [
    "# Save the best model\n",
    "import joblib\n",
    "import pickle\n",
    "joblib.dump(xgb, 'Dead_model_bestfinal.pkl')\n",
    "joblib.dump(X_balanced.columns.tolist(), \"Dead_features.pkl\")\n",
    "\n",
    "# Later on, you can load the model like this:\n",
    "loaded_model = joblib.load('Dead_model_bestfinal.pkl')\n",
    "loaded_features = joblib.load(\"Dead_features.pkl\")\n",
    "with open('encoder_Dead.pkl', 'wb') as f:\n",
    "    pickle.dump(encoder, f)\n"
   ]
  }
 ],
 "metadata": {
  "kernelspec": {
   "display_name": "Python 3",
   "language": "python",
   "name": "python3"
  },
  "language_info": {
   "codemirror_mode": {
    "name": "ipython",
    "version": 3
   },
   "file_extension": ".py",
   "mimetype": "text/x-python",
   "name": "python",
   "nbconvert_exporter": "python",
   "pygments_lexer": "ipython3",
   "version": "3.12.3"
  }
 },
 "nbformat": 4,
 "nbformat_minor": 5
}
